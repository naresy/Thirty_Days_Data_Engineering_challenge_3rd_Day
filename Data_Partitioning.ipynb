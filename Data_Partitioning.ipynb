{
 "cells": [
  {
   "cell_type": "code",
   "execution_count": 3,
   "id": "bd0fa27b",
   "metadata": {},
   "outputs": [
    {
     "name": "stdout",
     "output_type": "stream",
     "text": [
      "+---------+-----------+---------+-----------+---+------+-----------+-------------------------+----------+\n",
      "|Education|JoiningYear|     City|PaymentTier|Age|Gender|EverBenched|ExperienceInCurrentDomain|LeaveOrNot|\n",
      "+---------+-----------+---------+-----------+---+------+-----------+-------------------------+----------+\n",
      "|Bachelors|       2017|Bangalore|          3| 34|  Male|         No|                        0|         0|\n",
      "|  Masters|       2016|Bangalore|          3| 27|  Male|         No|                        5|         1|\n",
      "|Bachelors|       2016|Bangalore|          3| 22|  Male|         No|                        0|         0|\n",
      "|Bachelors|       2016|Bangalore|          3| 34|Female|         No|                        2|         1|\n",
      "|  Masters|       2012|Bangalore|          3| 27|  Male|         No|                        5|         1|\n",
      "|Bachelors|       2016|Bangalore|          3| 39|  Male|         No|                        2|         0|\n",
      "|Bachelors|       2012|Bangalore|          3| 37|  Male|         No|                        4|         0|\n",
      "|Bachelors|       2017|Bangalore|          1| 29|  Male|         No|                        3|         0|\n",
      "|Bachelors|       2014|Bangalore|          3| 34|Female|         No|                        2|         0|\n",
      "|Bachelors|       2012|Bangalore|          3| 37|  Male|         No|                        0|         0|\n",
      "|Bachelors|       2015|Bangalore|          3| 27|  Male|        Yes|                        5|         0|\n",
      "|Bachelors|       2017|Bangalore|          3| 29|  Male|         No|                        4|         0|\n",
      "|Bachelors|       2013|Bangalore|          3| 22|Female|        Yes|                        0|         0|\n",
      "|Bachelors|       2016|Bangalore|          3| 37|  Male|         No|                        2|         0|\n",
      "|Bachelors|       2015|Bangalore|          3| 23|  Male|         No|                        1|         0|\n",
      "|Bachelors|       2014|Bangalore|          3| 23|  Male|         No|                        1|         0|\n",
      "|Bachelors|       2018|Bangalore|          3| 26|  Male|         No|                        4|         1|\n",
      "|Bachelors|       2016|Bangalore|          3| 40|  Male|         No|                        5|         0|\n",
      "|Bachelors|       2014|Bangalore|          1| 30|Female|         No|                        3|         0|\n",
      "|Bachelors|       2015|Bangalore|          3| 36|  Male|         No|                        1|         0|\n",
      "+---------+-----------+---------+-----------+---+------+-----------+-------------------------+----------+\n",
      "only showing top 20 rows\n",
      "\n"
     ]
    }
   ],
   "source": [
    "#Horizontal Partitioning\n",
    "from pyspark.sql import SparkSession\n",
    "\n",
    "spark = SparkSession.builder \\\n",
    "    .appName(\"HorizontalPartitioningExample\") \\\n",
    "    .getOrCreate()\n",
    "\n",
    "# Load dataset\n",
    "df = spark.read.csv(\"Employee.csv\", header=True)\n",
    "\n",
    "# Horizontal partitioning by a  city column\n",
    "partitioned_df = df.repartition(\"city\")\n",
    "\n",
    "\n",
    "partitioned_df.show()"
   ]
  },
  {
   "cell_type": "code",
   "execution_count": 4,
   "id": "91cee76a",
   "metadata": {},
   "outputs": [
    {
     "name": "stderr",
     "output_type": "stream",
     "text": [
      "24/05/06 18:21:55 WARN SparkSession: Using an existing Spark session; only runtime SQL configurations will take effect.\n"
     ]
    },
    {
     "name": "stdout",
     "output_type": "stream",
     "text": [
      "+-------------------------+---------+\n",
      "|ExperienceInCurrentDomain|Education|\n",
      "+-------------------------+---------+\n",
      "|                        0|Bachelors|\n",
      "|                        3|Bachelors|\n",
      "|                        2|Bachelors|\n",
      "|                        5|  Masters|\n",
      "|                        2|  Masters|\n",
      "|                        0|Bachelors|\n",
      "|                        0|Bachelors|\n",
      "|                        2|Bachelors|\n",
      "|                        1|Bachelors|\n",
      "|                        2|  Masters|\n",
      "|                        5|  Masters|\n",
      "|                        3|Bachelors|\n",
      "|                        5|Bachelors|\n",
      "|                        2|Bachelors|\n",
      "|                        4|Bachelors|\n",
      "|                        3|Bachelors|\n",
      "|                        2|Bachelors|\n",
      "|                        4|Bachelors|\n",
      "|                        0|Bachelors|\n",
      "|                        0|Bachelors|\n",
      "+-------------------------+---------+\n",
      "only showing top 20 rows\n",
      "\n"
     ]
    }
   ],
   "source": [
    "#Vertical Partitioning:\n",
    "from pyspark.sql import SparkSession\n",
    "\n",
    "spark = SparkSession.builder \\\n",
    "    .appName(\"VerticalPartitioningExample\") \\\n",
    "    .getOrCreate()\n",
    "\n",
    "# Load dataset\n",
    "df = spark.read.csv(\"Employee.csv\", header=True)\n",
    "\n",
    "partitioned_df = df.select(\"ExperienceInCurrentDomain\", \"Education\")\n",
    "\n",
    "partitioned_df.show()"
   ]
  },
  {
   "cell_type": "code",
   "execution_count": 5,
   "id": "df43ae03",
   "metadata": {},
   "outputs": [
    {
     "name": "stderr",
     "output_type": "stream",
     "text": [
      "24/05/06 18:25:03 WARN SparkSession: Using an existing Spark session; only runtime SQL configurations will take effect.\n"
     ]
    },
    {
     "name": "stdout",
     "output_type": "stream",
     "text": [
      "+---------+-----------+---------+-----------+---+------+-----------+-------------------------+----------+\n",
      "|Education|JoiningYear|     City|PaymentTier|Age|Gender|EverBenched|ExperienceInCurrentDomain|LeaveOrNot|\n",
      "+---------+-----------+---------+-----------+---+------+-----------+-------------------------+----------+\n",
      "|Bachelors|       2016|Bangalore|          3| 39|  Male|         No|                        7|         0|\n",
      "|Bachelors|       2016|     Pune|          3| 38|Female|         No|                        7|         0|\n",
      "|  Masters|       2014|Bangalore|          3| 40|Female|         No|                        7|         1|\n",
      "|Bachelors|       2014|Bangalore|          3| 39|  Male|         No|                        7|         1|\n",
      "|Bachelors|       2012|Bangalore|          3| 38|  Male|         No|                        7|         1|\n",
      "|Bachelors|       2012|Bangalore|          1| 35|  Male|         No|                        7|         0|\n",
      "|Bachelors|       2015|     Pune|          3| 34|  Male|        Yes|                        7|         0|\n",
      "|Bachelors|       2016|Bangalore|          3| 38|Female|         No|                        7|         0|\n",
      "|Bachelors|       2015|     Pune|          2| 41|Female|         No|                        7|         0|\n",
      "|Bachelors|       2013|     Pune|          1| 28|Female|         No|                        3|         1|\n",
      "|Bachelors|       2016|     Pune|          3| 34|  Male|         No|                        3|         0|\n",
      "|Bachelors|       2017|Bangalore|          1| 29|  Male|         No|                        3|         0|\n",
      "|Bachelors|       2017|New Delhi|          2| 36|  Male|         No|                        3|         0|\n",
      "|      PHD|       2013|New Delhi|          3| 25|  Male|         No|                        3|         0|\n",
      "|Bachelors|       2014|Bangalore|          1| 30|Female|         No|                        3|         0|\n",
      "|Bachelors|       2012|New Delhi|          3| 29|  Male|         No|                        3|         0|\n",
      "|Bachelors|       2013|Bangalore|          3| 30|  Male|         No|                        3|         1|\n",
      "|  Masters|       2013|New Delhi|          3| 29|  Male|         No|                        3|         0|\n",
      "|      PHD|       2013|Bangalore|          2| 25|  Male|         No|                        3|         1|\n",
      "|Bachelors|       2014|     Pune|          3| 25|Female|         No|                        3|         0|\n",
      "+---------+-----------+---------+-----------+---+------+-----------+-------------------------+----------+\n",
      "only showing top 20 rows\n",
      "\n"
     ]
    }
   ],
   "source": [
    "#Key-based Partitioning:\n",
    "\n",
    "from pyspark.sql import SparkSession\n",
    "\n",
    "spark = SparkSession.builder \\\n",
    "    .appName(\"KeyBasedPartitioningExample\") \\\n",
    "    .getOrCreate()\n",
    "\n",
    "# Load dataset\n",
    "df = spark.read.csv(\"Employee.csv\", header=True)\n",
    "\n",
    "# Key-based partitioning by a specific column\n",
    "partitioned_df = df.repartition(\"ExperienceInCurrentDomain\")\n",
    "\n",
    "partitioned_df.show()\n",
    "\n",
    "# Stop the SparkSession\n",
    "spark.stop()"
   ]
  },
  {
   "cell_type": "code",
   "execution_count": 8,
   "id": "f2c37503",
   "metadata": {},
   "outputs": [
    {
     "name": "stdout",
     "output_type": "stream",
     "text": [
      "+---------+-----------+---------+-----------+---+------+-----------+-------------------------+----------+\n",
      "|Education|JoiningYear|     City|PaymentTier|Age|Gender|EverBenched|ExperienceInCurrentDomain|LeaveOrNot|\n",
      "+---------+-----------+---------+-----------+---+------+-----------+-------------------------+----------+\n",
      "|  Masters|       2012|Bangalore|          3| 27|  Male|         No|                        5|         1|\n",
      "|Bachelors|       2012|Bangalore|          3| 37|  Male|         No|                        4|         0|\n",
      "|Bachelors|       2012|Bangalore|          3| 37|  Male|         No|                        0|         0|\n",
      "|Bachelors|       2012|New Delhi|          3| 29|  Male|         No|                        3|         0|\n",
      "|      PHD|       2012|New Delhi|          3| 27|  Male|         No|                        5|         0|\n",
      "|Bachelors|       2012|Bangalore|          3| 39|  Male|         No|                        1|         0|\n",
      "|  Masters|       2012|New Delhi|          3| 32|  Male|         No|                        2|         0|\n",
      "|  Masters|       2012|     Pune|          3| 25|  Male|         No|                        3|         1|\n",
      "|Bachelors|       2012|Bangalore|          3| 25|  Male|         No|                        3|         0|\n",
      "|Bachelors|       2012|Bangalore|          1| 28|Female|         No|                        3|         0|\n",
      "|Bachelors|       2012|Bangalore|          3| 26|  Male|         No|                        4|         1|\n",
      "|Bachelors|       2012|     Pune|          3| 28|  Male|         No|                        2|         0|\n",
      "|Bachelors|       2012|     Pune|          2| 24|Female|         No|                        2|         1|\n",
      "|  Masters|       2012|New Delhi|          3| 26|Female|         No|                        4|         0|\n",
      "|Bachelors|       2012|Bangalore|          3| 24|  Male|         No|                        2|         1|\n",
      "|Bachelors|       2012|Bangalore|          3| 24|  Male|         No|                        2|         0|\n",
      "|Bachelors|       2012|Bangalore|          3| 25|  Male|         No|                        3|         0|\n",
      "|Bachelors|       2012|Bangalore|          3| 27|  Male|         No|                        5|         1|\n",
      "|Bachelors|       2012|Bangalore|          3| 25|  Male|         No|                        3|         1|\n",
      "|  Masters|       2012|New Delhi|          3| 26|  Male|         No|                        4|         1|\n",
      "+---------+-----------+---------+-----------+---+------+-----------+-------------------------+----------+\n",
      "only showing top 20 rows\n",
      "\n"
     ]
    }
   ],
   "source": [
    "#Range-based Partitioning:\n",
    "\n",
    "from pyspark.sql import SparkSession\n",
    "\n",
    "spark = SparkSession.builder \\\n",
    "    .appName(\"RangeBasedPartitioningExample\") \\\n",
    "    .getOrCreate()\n",
    "\n",
    "# Load dataset\n",
    "df = spark.read.csv(\"Employee.csv\", header=True)\n",
    "partitioned_df = df.repartitionByRange(2012, \"JoiningYear\")\n",
    "\n",
    "partitioned_df.show()\n",
    "\n",
    "# Stop the SparkSession\n",
    "spark.stop()"
   ]
  },
  {
   "cell_type": "code",
   "execution_count": 9,
   "id": "960ca928",
   "metadata": {},
   "outputs": [
    {
     "name": "stdout",
     "output_type": "stream",
     "text": [
      "+---------+-----------+---------+-----------+---+------+-----------+-------------------------+----------+\n",
      "|Education|JoiningYear|     City|PaymentTier|Age|Gender|EverBenched|ExperienceInCurrentDomain|LeaveOrNot|\n",
      "+---------+-----------+---------+-----------+---+------+-----------+-------------------------+----------+\n",
      "|  Masters|       2016|Bangalore|          3| 27|  Male|         No|                        5|         1|\n",
      "|  Masters|       2017|     Pune|          3| 24|  Male|        Yes|                        2|         1|\n",
      "|  Masters|       2017|New Delhi|          2| 37|  Male|         No|                        2|         0|\n",
      "|  Masters|       2012|Bangalore|          3| 27|  Male|         No|                        5|         1|\n",
      "|  Masters|       2017|New Delhi|          2| 28|  Male|         No|                        4|         0|\n",
      "|  Masters|       2017|New Delhi|          2| 30|Female|         No|                        2|         0|\n",
      "|  Masters|       2017|New Delhi|          2| 23|  Male|         No|                        1|         0|\n",
      "|  Masters|       2013|New Delhi|          3| 35|  Male|         No|                        2|         0|\n",
      "|  Masters|       2017|New Delhi|          2| 34|  Male|         No|                        0|         0|\n",
      "|  Masters|       2014|     Pune|          3| 39|Female|         No|                        2|         0|\n",
      "|  Masters|       2017|     Pune|          2| 36|  Male|         No|                        2|         1|\n",
      "|  Masters|       2013|New Delhi|          3| 29|  Male|         No|                        3|         0|\n",
      "|  Masters|       2017|Bangalore|          3| 40|Female|         No|                        2|         1|\n",
      "|  Masters|       2017|Bangalore|          3| 31|  Male|         No|                        4|         0|\n",
      "|  Masters|       2017|New Delhi|          2| 25|Female|         No|                        3|         1|\n",
      "|  Masters|       2015|     Pune|          2| 32|Female|         No|                        4|         0|\n",
      "|  Masters|       2012|New Delhi|          3| 32|  Male|         No|                        2|         0|\n",
      "|  Masters|       2013|New Delhi|          3| 36|  Male|         No|                        2|         0|\n",
      "|  Masters|       2012|     Pune|          3| 25|  Male|         No|                        3|         1|\n",
      "|  Masters|       2017|New Delhi|          3| 26|Female|         No|                        4|         1|\n",
      "+---------+-----------+---------+-----------+---+------+-----------+-------------------------+----------+\n",
      "only showing top 20 rows\n",
      "\n"
     ]
    }
   ],
   "source": [
    "#Hash-based Partitioning:\n",
    "from pyspark.sql import SparkSession\n",
    "\n",
    "spark = SparkSession.builder \\\n",
    "    .appName(\"HashBasedPartitioningExample\") \\\n",
    "    .getOrCreate()\n",
    "\n",
    "# Load dataset\n",
    "df = spark.read.csv(\"Employee.csv\", header=True)\n",
    "partitioned_df = df.repartition(\"Education\")\n",
    "partitioned_df.show()\n",
    "spark.stop()"
   ]
  },
  {
   "cell_type": "code",
   "execution_count": 11,
   "id": "b03b5f25",
   "metadata": {},
   "outputs": [
    {
     "name": "stdout",
     "output_type": "stream",
     "text": [
      "+---------+-----------+---------+-----------+---+------+-----------+-------------------------+----------+\n",
      "|Education|JoiningYear|     City|PaymentTier|Age|Gender|EverBenched|ExperienceInCurrentDomain|LeaveOrNot|\n",
      "+---------+-----------+---------+-----------+---+------+-----------+-------------------------+----------+\n",
      "|Bachelors|       2015|     Pune|          2| 29|Female|         No|                        1|         1|\n",
      "|  Masters|       2015|     Pune|          2| 30|Female|         No|                        1|         0|\n",
      "|Bachelors|       2017|     Pune|          2| 33|Female|         No|                        2|         1|\n",
      "|Bachelors|       2018|Bangalore|          3| 28|Female|         No|                        3|         1|\n",
      "|  Masters|       2017|New Delhi|          3| 41|  Male|         No|                        3|         1|\n",
      "|Bachelors|       2014|     Pune|          3| 27|  Male|         No|                        5|         1|\n",
      "|      PHD|       2013|Bangalore|          3| 27|  Male|         No|                        5|         0|\n",
      "|Bachelors|       2012|Bangalore|          3| 32|Female|         No|                        0|         0|\n",
      "|Bachelors|       2014|Bangalore|          3| 26|Female|         No|                        4|         0|\n",
      "|Bachelors|       2013|New Delhi|          1| 27|Female|         No|                        5|         0|\n",
      "|  Masters|       2013|New Delhi|          3| 24|Female|        Yes|                        2|         1|\n",
      "|Bachelors|       2013|New Delhi|          3| 29|Female|         No|                        1|         1|\n",
      "|Bachelors|       2012|Bangalore|          3| 33|  Male|         No|                        2|         0|\n",
      "|Bachelors|       2016|Bangalore|          1| 38|  Male|         No|                        3|         0|\n",
      "|  Masters|       2015|Bangalore|          3| 31|  Male|         No|                        1|         1|\n",
      "|Bachelors|       2018|Bangalore|          3| 26|Female|        Yes|                        4|         1|\n",
      "|Bachelors|       2018|New Delhi|          3| 28|Female|         No|                        5|         1|\n",
      "|Bachelors|       2016|     Pune|          3| 24|  Male|         No|                        2|         0|\n",
      "|Bachelors|       2017|New Delhi|          2| 31|  Male|         No|                        3|         0|\n",
      "|  Masters|       2017|Bangalore|          3| 39|Female|         No|                        4|         1|\n",
      "+---------+-----------+---------+-----------+---+------+-----------+-------------------------+----------+\n",
      "only showing top 20 rows\n",
      "\n"
     ]
    }
   ],
   "source": [
    "from pyspark.sql import SparkSession\n",
    "\n",
    "spark = SparkSession.builder \\\n",
    "    .appName(\"RoundRobinPartitioningExample\") \\\n",
    "    .getOrCreate()\n",
    "\n",
    "# Load dataset\n",
    "df = spark.read.csv(\"Employee.csv\", header=True)\n",
    "\n",
    "# Round-robin partitioning\n",
    "partitioned_df = df.repartition(3)\n",
    "partitioned_df.show()\n",
    "\n",
    "# Stop the SparkSession\n",
    "spark.stop()"
   ]
  },
  {
   "cell_type": "code",
   "execution_count": null,
   "id": "6c066202",
   "metadata": {},
   "outputs": [],
   "source": []
  }
 ],
 "metadata": {
  "kernelspec": {
   "display_name": "Python 3 (ipykernel)",
   "language": "python",
   "name": "python3"
  },
  "language_info": {
   "codemirror_mode": {
    "name": "ipython",
    "version": 3
   },
   "file_extension": ".py",
   "mimetype": "text/x-python",
   "name": "python",
   "nbconvert_exporter": "python",
   "pygments_lexer": "ipython3",
   "version": "3.11.0"
  }
 },
 "nbformat": 4,
 "nbformat_minor": 5
}
